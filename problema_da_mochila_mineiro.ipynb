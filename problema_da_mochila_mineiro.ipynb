{
 "cells": [
  {
   "cell_type": "markdown",
   "id": "1cf99097",
   "metadata": {},
   "source": [
    "# Setup"
   ]
  },
  {
   "cell_type": "code",
   "execution_count": 1,
   "id": "b5f078a3",
   "metadata": {},
   "outputs": [
    {
     "name": "stdout",
     "output_type": "stream",
     "text": [
      "Requirement already satisfied: numpy in /home/diego/google-drive/cefetmg/docencia/DECOM-2023-1/POII/poenv/lib/python3.11/site-packages (1.24.3)\n",
      "Requirement already satisfied: ortools in /home/diego/google-drive/cefetmg/docencia/DECOM-2023-1/POII/poenv/lib/python3.11/site-packages (9.6.2534)\n",
      "Requirement already satisfied: absl-py>=0.13 in /home/diego/google-drive/cefetmg/docencia/DECOM-2023-1/POII/poenv/lib/python3.11/site-packages (from ortools) (1.4.0)\n",
      "Requirement already satisfied: numpy>=1.13.3 in /home/diego/google-drive/cefetmg/docencia/DECOM-2023-1/POII/poenv/lib/python3.11/site-packages (from ortools) (1.24.3)\n",
      "Requirement already satisfied: protobuf>=4.21.12 in /home/diego/google-drive/cefetmg/docencia/DECOM-2023-1/POII/poenv/lib/python3.11/site-packages (from ortools) (4.22.4)\n",
      "Requirement already satisfied: scipy>=1.10.0 in /home/diego/google-drive/cefetmg/docencia/DECOM-2023-1/POII/poenv/lib/python3.11/site-packages (from ortools) (1.10.1)\n"
     ]
    }
   ],
   "source": [
    "!pip install numpy\n",
    "!pip install ortools\n",
    "import numpy as np\n",
    "from ortools.linear_solver import pywraplp"
   ]
  },
  {
   "cell_type": "markdown",
   "id": "5c157364",
   "metadata": {},
   "source": [
    "# Criando o Solver SCIP"
   ]
  },
  {
   "cell_type": "code",
   "execution_count": 2,
   "id": "3ef6117d",
   "metadata": {},
   "outputs": [],
   "source": [
    "solver = pywraplp.Solver.CreateSolver('SCIP')"
   ]
  },
  {
   "cell_type": "markdown",
   "id": "16aa7d5f",
   "metadata": {},
   "source": [
    "# Definindo variáveis de decisão"
   ]
  },
  {
   "cell_type": "code",
   "execution_count": 3,
   "id": "b364ee2a",
   "metadata": {},
   "outputs": [],
   "source": [
    "infinity = solver.infinity()\n",
    "# IntVar também define que minhas variaveis sao inteiras\n",
    "x_0 = solver.IntVar(2.0, infinity, 'Doce de Leite')\n",
    "x_1 = solver.IntVar(3.0, infinity, 'Cachaça')\n",
    "x_2 = solver.IntVar(1.0, infinity, 'Queijo Canastra')\n",
    "x_3 = solver.IntVar(1.0, infinity, 'Queijo do Serro')"
   ]
  },
  {
   "cell_type": "markdown",
   "id": "d92308cd",
   "metadata": {},
   "source": [
    "# Adicionando Restrições"
   ]
  },
  {
   "cell_type": "code",
   "execution_count": 4,
   "id": "65b878a9",
   "metadata": {},
   "outputs": [
    {
     "data": {
      "text/plain": [
       "<ortools.linear_solver.pywraplp.Constraint; proxy of <Swig Object of type 'operations_research::MPConstraint *' at 0x7f01c41c6f40> >"
      ]
     },
     "execution_count": 4,
     "metadata": {},
     "output_type": "execute_result"
    }
   ],
   "source": [
    "solver.Add(400 * x_0 + 750 * x_1 + 1000 * x_2 + 450 * x_3 <= 8000)\n",
    "solver.Add(x_0 <= 20)\n",
    "solver.Add(x_1 <= 30)\n",
    "solver.Add(x_2 <= 10)\n",
    "solver.Add(x_3 <= 5)"
   ]
  },
  {
   "cell_type": "markdown",
   "id": "ed046ad7",
   "metadata": {},
   "source": [
    "# Adicionando Funcao Objetivo"
   ]
  },
  {
   "cell_type": "code",
   "execution_count": 5,
   "id": "fe6d79ff",
   "metadata": {},
   "outputs": [],
   "source": [
    "solver.Maximize(40 * x_0 + 80 * x_1 + 65 * x_2 + 79.90 * x_3)"
   ]
  },
  {
   "cell_type": "markdown",
   "id": "d7cb3c35",
   "metadata": {},
   "source": [
    "# Resolvendo o problema"
   ]
  },
  {
   "cell_type": "code",
   "execution_count": 6,
   "id": "b29ec9c0",
   "metadata": {},
   "outputs": [
    {
     "name": "stdout",
     "output_type": "stream",
     "text": [
      "Resolvendo com SCIP 8.0.3 [LP solver: Glop 9.6]\n",
      "Solução:\n",
      "Máximo função Objetivo = 944.5\n",
      "Doce de Leite = 2.0\n",
      "Cachaça = 5.0\n",
      "Queijo Canastra = 1.0\n",
      "Queijo do Serro = 5.0\n"
     ]
    }
   ],
   "source": [
    "print(f'Resolvendo com {solver.SolverVersion()}')\n",
    "status = solver.Solve()\n",
    "if status == pywraplp.Solver.OPTIMAL:\n",
    "    print('Solução:')\n",
    "    print('Máximo função Objetivo =', solver.Objective().Value())\n",
    "    print('{} = {}'.format(x_0, x_0.solution_value()))\n",
    "    print('{} = {}'.format(x_1, x_1.solution_value()))\n",
    "    print('{} = {}'.format(x_2, x_2.solution_value()))\n",
    "    print('{} = {}'.format(x_3, x_3.solution_value()))\n",
    "else:\n",
    "    print('The problem does not have an optimal solution.')"
   ]
  }
 ],
 "metadata": {
  "kernelspec": {
   "display_name": "Python 3 (ipykernel)",
   "language": "python",
   "name": "python3"
  },
  "language_info": {
   "codemirror_mode": {
    "name": "ipython",
    "version": 3
   },
   "file_extension": ".py",
   "mimetype": "text/x-python",
   "name": "python",
   "nbconvert_exporter": "python",
   "pygments_lexer": "ipython3",
   "version": "3.11.3"
  }
 },
 "nbformat": 4,
 "nbformat_minor": 5
}
